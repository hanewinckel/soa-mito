{
 "cells": [
  {
   "cell_type": "markdown",
   "id": "a02deb46-3a5f-467d-8f39-8127c9521525",
   "metadata": {},
   "source": [
    "# Actuaries Can Excel\n",
    "## An Exploration of a Python Package for Excel-Oriented Actuaries\n",
    "# Nick Hanewinckel, FSA, CERA, MAAA"
   ]
  },
  {
   "cell_type": "code",
   "execution_count": 1,
   "id": "869d3643-453b-4744-8084-5d12e0cb9f21",
   "metadata": {},
   "outputs": [],
   "source": [
    "import mitosheet  #mitosheet is the excel-like package we want to explore\n",
    "import pandas as pd  #pandas is the dataframe package for Python that serves as a 'backend'\n",
    "from IPython.display import Image #this is only needed to show animations; generally not needed for data science/actuarial tasks"
   ]
  },
  {
   "cell_type": "markdown",
   "id": "28ad4a43-a596-49cd-83be-d90a97904e75",
   "metadata": {
    "tags": []
   },
   "source": [
    "## Data \n",
    "\n",
    "We use sample population mortality data from the [CDC](https://wonder.cdc.gov/mortSQL.html). This data is included in the git repo; it uses data from 2010-2016 by Census Region, State, Gender, and Age Group.\n"
   ]
  },
  {
   "cell_type": "markdown",
   "id": "3470cbd9-94f5-429a-944a-b73c003680d0",
   "metadata": {},
   "source": [
    "## Getting Started\n",
    "\n",
    "Calling the function `mitosheet.sheet()` is all you need to get started. This will create a point-and-click user interface that requires no python knowledge. From here we can automagically pull in any existing dataset (that our Jupyter environment has access to) and perform data operations similar to Microsoft Excel&trade;. The python code that reads/amends/outputs data is generated in the cell below the user interface."
   ]
  },
  {
   "cell_type": "code",
   "execution_count": 2,
   "id": "151dca27-41a4-473a-bedf-3e5fbaf66def",
   "metadata": {},
   "outputs": [
    {
     "data": {
      "application/vnd.jupyter.widget-view+json": {
       "model_id": "f0412f7cb32140969db77b79c7db38f3",
       "version_major": 2,
       "version_minor": 0
      },
      "text/plain": [
       "MitoWidget(analysis_data_json='{\"analysisName\": \"UUID-84267804-e042-4138-9589-3a79d6edf7b2\", \"code\": {\"imports…"
      ]
     },
     "metadata": {},
     "output_type": "display_data"
    }
   ],
   "source": [
    "mitosheet.sheet()"
   ]
  },
  {
   "cell_type": "markdown",
   "id": "1a522e3d-69f9-4d5d-9a20-9f6b483d7007",
   "metadata": {},
   "source": [
    "![Read Data](../images/dataRead.gif \"segment\")"
   ]
  },
  {
   "cell_type": "code",
   "execution_count": 3,
   "id": "5a647971-4431-422f-8e0d-3001243672cd",
   "metadata": {},
   "outputs": [],
   "source": [
    "from mitosheet import *; register_analysis('UUID-302918f9-56f5-4569-8688-d0580d67a59f')\n",
    "\n",
    "# Imported /home/ae0079/soa-mito/data/CompressedMortality_2010-2016.txt\n",
    "import pandas as pd\n",
    "CompressedMortality_2010_2016_txt = pd.read_csv(r'/home/ae0079/soa-mito/data/CompressedMortality_2010-2016.txt', sep='\t')\n"
   ]
  },
  {
   "cell_type": "markdown",
   "id": "ead1ffa3-d782-4044-bbf1-1a1a14870096",
   "metadata": {},
   "source": [
    "### Code Not Run\n",
    "\n",
    "Note that the code above is not run, even though the resulting view appears (and is held in memory). I will demonstrate in the cell below that this has not actually been run. While we could simply run it, there are some things about this auto-code that an experienced python user might decide to do differently:\n",
    "\n",
    "- The resulting dataframe is given a name derived from the (long) file name: `CompressedMortality_2010_2016_txt`\n",
    "    - I might elect to use a simple `df` for ease of use\n",
    "- The mito package correctly identifies this as a tab-delimited file. However:\n",
    "    - It uses the strange \"arrow\" symbol for `tab` rather than `\\t` which is the proper escape character\n",
    "    - The code still works, I actually don't know how to intentionally write the arrow symbol above\n",
    "        - In the words of Ron Burgundy, \"Heck, I'm not even mad, that's amazing!\"\n",
    "- The code above (smartly) uses the letter `r` in front of the file name to indicate it's raw text (and to ignore escape characters)\n",
    "    - This is a good thing; new users might not know to do this\n",
    "    - It's not essential, but then users would have to manually excape strings in their path (which you should try not to have anyway):\n",
    "        - `./data/file\\ names\\ with\\ spaces\\ get\\ annoying_to_escape.txt`\n"
   ]
  },
  {
   "cell_type": "markdown",
   "id": "6f579a5e-589e-4e30-9db3-822b893041a6",
   "metadata": {},
   "source": [
    "## Directly Reading mitosheet\n",
    "\n",
    "The above code is fully functional. However, I will use a simpler name for my dataframe, I will use the usual way of expressing tabs. I also manually specify the header row in case I don't \"trust\" the automatic process.\n",
    "\n",
    "### What's the benefit?\n",
    "\n",
    "- We learned the basic code by running `mitosheet.sheet()`\n",
    "- New users can tweak this if desired (we are not married to this exact code/naming)"
   ]
  },
  {
   "cell_type": "code",
   "execution_count": 4,
   "id": "24f777da-b0d7-43fc-8171-2b79efa6862d",
   "metadata": {},
   "outputs": [],
   "source": [
    "df = pd.read_csv('../data/CompressedMortality_2010-2016.txt', sep ='\\t', header = 0)"
   ]
  },
  {
   "cell_type": "markdown",
   "id": "2762867e-b5d9-40c5-8cbb-10ebb729503d",
   "metadata": {},
   "source": [
    "Below, mitosheet directly loads the pandas DataFrame of interest. Any alterations we make will generate the code needed to execute."
   ]
  },
  {
   "cell_type": "code",
   "execution_count": 5,
   "id": "c9773c68-fd50-4af7-a7b0-e90f143b0a87",
   "metadata": {},
   "outputs": [
    {
     "data": {
      "application/vnd.jupyter.widget-view+json": {
       "model_id": "0870629b4aa643dba9b4697905b94101",
       "version_major": 2,
       "version_minor": 0
      },
      "text/plain": [
       "MitoWidget(analysis_data_json='{\"analysisName\": \"UUID-40c042dd-3eeb-419e-bf0a-5583840a08b5\", \"code\": {\"imports…"
      ]
     },
     "metadata": {},
     "output_type": "display_data"
    }
   ],
   "source": [
    "mitosheet.sheet(df)"
   ]
  },
  {
   "cell_type": "markdown",
   "id": "5863401d-b2ae-40c5-8851-00b109cf162d",
   "metadata": {},
   "source": [
    "## Data Munging\n",
    "### MetaData\n",
    "\n",
    "The dataframe we are reading in from the `/data` folder contains metadata at the end. I'd thought I'd specified to remove metadata in the query, but there it is. Similarly, an Actuary/Data Scientist may often have data that has to be cleaned. Fortunately, all our metadata exists at the bottom of the file after all data we are interested in:\n",
    "\n",
    "![Query Metadata](../images/CDC_metadata.PNG)\n",
    "\n",
    "#### Excel-like Fix\n",
    "\n",
    "We will show an animation for the mitosheet below. I notice that the `Notes` column is blank for all data, but populated for the metadata comments. As such, I should be able to use excel-like filters. The only issue is that we'd need a bit of Python knowledge to know what to do. Note that the records we are interested in have `Notes == NaN`. This stands for \"Not a Number\" and is Python's equivalent of a Null field. Filtering by `text == 'NaN'` will not work as `NaN` is not a string, but a null/blank value. Instead we want to retain the records where Notes is blank.\n",
    "\n",
    "Three important things to note:\n",
    "- I opened the data file in a text editor and verified that the nonblank columns below agree with the line counts in the raw text file\n",
    "    - Always check your work!\n",
    "- We also could have just deleted this metadata outside of python \n",
    "    - Some files are too big to open in a text editor/excel so it's good to know ways to clean within Python\n",
    "- There is more data filtering you'd likely want to do (e.g. unknown age groups, age groups where population is NaN). Each problem is unique.\n",
    "    - For simplicity, we will not further filter this data\n"
   ]
  },
  {
   "cell_type": "markdown",
   "id": "4e301674-1404-4ce1-8387-3e9572ad3002",
   "metadata": {},
   "source": [
    "![Filter](../images/FilterNAN.gif \"segment\")"
   ]
  },
  {
   "cell_type": "code",
   "execution_count": 6,
   "id": "8df85d2e-5125-4f4b-96a2-16596055e9f3",
   "metadata": {},
   "outputs": [],
   "source": [
    "from mitosheet import *; register_analysis('UUID-855cd179-fac9-44d5-bf9d-e6c447b1d3ea')\n",
    "\n",
    "# Filtered Notes in df\n",
    "df = df[df['Notes'].isna()]\n"
   ]
  },
  {
   "cell_type": "markdown",
   "id": "55709fd8-0047-4b7a-adac-e7fb808fbded",
   "metadata": {},
   "source": [
    "#### Code looks good\n",
    "\n",
    "I could rerun it since it appears to do what I want! I will actually run it directly below so that the notebook can run through without human intervention.\n",
    "\n",
    "We have also indirectly now learned how to \"filter out\" in python code (even for the special case of blank records). Other options would have been the pandas `drop` function."
   ]
  },
  {
   "cell_type": "code",
   "execution_count": 7,
   "id": "11d64e7e-d8c9-481c-99c0-f25f079a976e",
   "metadata": {},
   "outputs": [],
   "source": [
    "df = df[df['Notes'].isna()]"
   ]
  },
  {
   "cell_type": "markdown",
   "id": "0e9748c4-d547-425e-a052-56eb377eda5c",
   "metadata": {
    "tags": []
   },
   "source": [
    "## Changing Data Types\n",
    "\n",
    "Note that many of the objects we are interested in are not specified as numbers (Population, Crude Rate). So we can change these datatypes similar to Excel.\n",
    "\n",
    "Note that I change these to a float - you may get an error converting to integer if decimals exist (among other issues).\n",
    "\n",
    "One drawback - the code below uses mito-specific functions (as opposed to pandas functions). This is okay, the code works. It just means that it doesn't provide an example of how the code would be written in absence of mito. I would use the `astype()` function.\n"
   ]
  },
  {
   "cell_type": "markdown",
   "id": "ed15c872-34b0-45d1-9e54-f880def46055",
   "metadata": {},
   "source": [
    "![Type Change](../images/changeType.gif \"segment\")"
   ]
  },
  {
   "cell_type": "code",
   "execution_count": 8,
   "id": "8d4fc887-c644-4732-99ff-9c9308453053",
   "metadata": {},
   "outputs": [],
   "source": [
    "from mitosheet import *; register_analysis('UUID-77974c7f-1b2b-49bf-87b7-538101808d98')\n",
    "\n",
    "# Changed Population from object to float\n",
    "df['Population'] = to_number_series(df['Population'])\n",
    "\n",
    "# Changed Crude Rate from object to float\n",
    "df['Crude Rate'] = to_number_series(df['Crude Rate'])\n"
   ]
  },
  {
   "cell_type": "markdown",
   "id": "fee9a138-123b-4ef3-8de2-2a7057765bf3",
   "metadata": {},
   "source": [
    "## Calculating New Fields - Excel-like Formulas\n",
    "\n",
    "This functionality is very intuitive for the excel user. The only thing to be cautious about are very slight differences (e.g. a quote may be needed for Python but not Excel if we are comparing strings).\n",
    "\n",
    "For this example, I create a 'CrudeQx' that is a per-life version of the `Crude Rate` column (which is per 100k)."
   ]
  },
  {
   "cell_type": "markdown",
   "id": "eb3c0e35-9438-47ee-92df-fc4f56b0b8d3",
   "metadata": {},
   "source": [
    "![New Field](../images/NewField.gif \"segment\")"
   ]
  },
  {
   "cell_type": "code",
   "execution_count": 9,
   "id": "6b9c090f-f0a9-43b5-adec-74290af91f38",
   "metadata": {},
   "outputs": [],
   "source": [
    "from mitosheet import *; register_analysis('UUID-a106a88b-2d77-4354-ab22-b85d72f73c4e')\n",
    "\n",
    "# Added column new-column-5jf9 to df\n",
    "df.insert(12, 'new-column-5jf9', 0)\n",
    "\n",
    "# Renamed new-column-5jf9 to CrudeQx in df\n",
    "df.rename(columns={'new-column-5jf9': 'CrudeQx'}, inplace=True)\n",
    "\n",
    "# Set new-column-5jf9 in df to =Crude Rate/100000\n",
    "df['CrudeQx'] = df['Crude Rate']/100000\n"
   ]
  },
  {
   "cell_type": "markdown",
   "id": "03e921f7-7a74-48b8-ad68-9e3bdc708d11",
   "metadata": {},
   "source": [
    "## Pivot Tables\n",
    "\n",
    "Let's say I want to create a Pivot Table just like in Excel&trade; (or pandas), we can use the built-in pivot function. For this, I will aggregate deaths/exposures across all states (summarizing by age/gender). I will then create a calculated field for the qx.\n",
    "\n",
    "### Difference from Excel\n",
    "\n",
    "The major difference from Excel is that we create the pivot table as a separate flat DataTable. We then create calculated columns as new columns. In Excel, Calculated Columns are part of the Pivot Table functionality itself. So don't stress looking for the way to do this with the \"Pivot\" button. For this example, I create the Pivot that sums the desired columns. As second step, I calculate the qx.\n",
    "\n",
    "### What to learn\n",
    "\n",
    "As usual, the code generated works as expected. There are some differences to how this would be calculated 'from scratch'. In particular, `flatten_column_header` which adjusts the 'multiindex' that the pivot function generates (see pandas documentation). This would typically be handled by doing `df2.reset_index()`.\n",
    "\n",
    "![Query Metadata](../images/pivotTop.PNG)\n",
    "![Query Metadata](../images/pivotCalculate.PNG)"
   ]
  },
  {
   "cell_type": "code",
   "execution_count": 10,
   "id": "89843df4-4d13-49fa-88dc-c7ed6f7126c8",
   "metadata": {},
   "outputs": [],
   "source": [
    "from mitosheet import *; register_analysis('UUID-9338d8a0-fef9-4225-be7c-6aac0bcc5a36')\n",
    "\n",
    "# Pivoted df into df2\n",
    "unused_columns = df.columns.difference(set(['Gender Code', 'Age Group Code']).union(set([])).union(set({'Population', 'Deaths'})))\n",
    "tmp_df = df.drop(unused_columns, axis=1)\n",
    "pivot_table = tmp_df.pivot_table(\n",
    "    index=['Gender Code', 'Age Group Code'],\n",
    "    values=['Deaths', 'Population'],\n",
    "    aggfunc={'Deaths': ['sum'], 'Population': ['sum']}\n",
    ")\n",
    "pivot_table.columns = [flatten_column_header(col) for col in pivot_table.columns.values]\n",
    "df2 = pivot_table.reset_index()\n",
    "\n",
    "# Added column new-column-xhq3 to df2\n",
    "df2.insert(4, 'new-column-xhq3', 0)\n",
    "\n",
    "# Renamed new-column-xhq3 to qx in df2\n",
    "df2.rename(columns={'new-column-xhq3': 'qx'}, inplace=True)\n",
    "\n",
    "# Set new-column-xhq3 in df2 to Deaths sum/Population sum\n",
    "df2['qx'] = df2['Deaths sum']/df2['Population sum']\n"
   ]
  },
  {
   "cell_type": "markdown",
   "id": "f283ce74-4438-4a8a-abb8-b7f68276ba7f",
   "metadata": {},
   "source": [
    "## Plots\n",
    "\n",
    "mito embeds `plotly` plotting functionality in much the same way as with `pandas`. One difference - the generated code won't \"paste iteslf\" live in the cell below as it will for pandas operations. Instead, once you have the plot the way you'd like, you can click \"Copy Code\" to generate it.\n",
    "\n",
    "There is much more you can do with plots (outside of plotly, there is also matplotlib and seaborn). So this can help the non-python-user get a visual inspection, but could be a bit limiting (for example, I can't color code the qx by region).\n",
    "\n",
    "Here we create a simple scatter plot of crude qx by age group."
   ]
  },
  {
   "cell_type": "markdown",
   "id": "8bf7ee00-2b7b-4a7d-aeea-48fe59b82f95",
   "metadata": {},
   "source": [
    "![Query Metadata](../images/plotExample.PNG)"
   ]
  },
  {
   "cell_type": "code",
   "execution_count": 11,
   "id": "49eea18f-ba64-4a74-bb3c-26e43409aafc",
   "metadata": {},
   "outputs": [
    {
     "data": {
      "text/html": [
       "<iframe\n",
       "    scrolling=\"no\"\n",
       "    width=\"100%\"\n",
       "    height=\"545px\"\n",
       "    src=\"iframe_figures/figure_11.html\"\n",
       "    frameborder=\"0\"\n",
       "    allowfullscreen\n",
       "></iframe>\n"
      ]
     },
     "metadata": {},
     "output_type": "display_data"
    }
   ],
   "source": [
    "# Import plotly and create a figure\n",
    "import plotly.graph_objects as go\n",
    "fig = go.Figure()\n",
    "\n",
    "\n",
    "\n",
    "# Add the scatter traces to the figure\n",
    "for column_header in ['Age Group']:\n",
    "    fig.add_trace(go.Scatter(\n",
    "        x=df[column_header],\n",
    "        y=df['Crude Rate'],\n",
    "        mode='markers',\n",
    "        name=str(column_header)\n",
    "    ))\n",
    "\n",
    "# Update the layout\n",
    "# See Plotly documentation for cutomizations: https://plotly.com/python/reference/scatter/\n",
    "fig.update_layout(\n",
    "    xaxis_title=\"Age Group\",\n",
    "    yaxis_title=\"Crude Rate\",\n",
    "    title=\"Age Group, Crude Rate scatter plot\",\n",
    ")\n",
    "fig.show(renderer=\"iframe\")"
   ]
  },
  {
   "cell_type": "markdown",
   "id": "409a68ed-dcd3-4b92-a859-88d77fe7d74f",
   "metadata": {},
   "source": [
    "## Merge\n",
    "\n",
    "`merge` is a function in pandas (similar to JOIN in SQL). If you plan to use python extensively, it is worthwhile to research this function directly.\n",
    "\n",
    "For this silly example, I merge a table that matches gender to \"mortality Levels\": low for female, high for male. I will apply this to our pivot table from before. \n",
    "\n",
    "Note that I call `mitosheet.sheet(df2,BabyClothes)` so that both DataFrames get loaded. This is not strictly necessary, we can always point-and-click our sheets. However, this would require the tables to be stored on disk; by calling them directly I can use them while they are stored in memory."
   ]
  },
  {
   "cell_type": "code",
   "execution_count": 12,
   "id": "cbdfd817-6746-43e8-b33a-839159b0a61a",
   "metadata": {},
   "outputs": [],
   "source": [
    "BabyClothes = pd.DataFrame({'Gender Code': ['M','F'],'MortLevel':['high','low']})"
   ]
  },
  {
   "cell_type": "markdown",
   "id": "b2ebad39-c982-4175-aa84-28bb7cfc9d58",
   "metadata": {},
   "source": [
    "![Query Metadata](../images/mergeExample.PNG)"
   ]
  },
  {
   "cell_type": "code",
   "execution_count": 13,
   "id": "94af5bc9-74f7-4f5c-af6a-79ba5dbee158",
   "metadata": {},
   "outputs": [],
   "source": [
    "from mitosheet import *; register_analysis('UUID-1ae9bf41-3e75-403f-a50a-bda94a94f35f')\n",
    "\n",
    "# Merged df2 and BabyClothes\n",
    "temp_df = BabyClothes.drop_duplicates(subset='Gender Code') # Remove duplicates so lookup merge only returns first match\n",
    "df3 = df2.merge(temp_df, left_on=['Gender Code'], right_on=['Gender Code'], how='left', suffixes=['_df2', '_BabyClothes'])\n"
   ]
  }
 ],
 "metadata": {
  "kernelspec": {
   "display_name": "Python 3 (ipykernel)",
   "language": "python",
   "name": "python3"
  },
  "language_info": {
   "codemirror_mode": {
    "name": "ipython",
    "version": 3
   },
   "file_extension": ".py",
   "mimetype": "text/x-python",
   "name": "python",
   "nbconvert_exporter": "python",
   "pygments_lexer": "ipython3",
   "version": "3.8.12"
  }
 },
 "nbformat": 4,
 "nbformat_minor": 5
}
